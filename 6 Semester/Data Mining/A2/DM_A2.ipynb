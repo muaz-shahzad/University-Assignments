{
  "nbformat": 4,
  "nbformat_minor": 0,
  "metadata": {
    "colab": {
      "provenance": []
    },
    "kernelspec": {
      "name": "python3",
      "display_name": "Python 3"
    },
    "language_info": {
      "name": "python"
    }
  },
  "cells": [
    {
      "cell_type": "code",
      "source": [
        "print(\"M Muaz Shahzad \")\n",
        "print(\"BSE 5B\")\n",
        "print(\"02-131202-081\")\n"
      ],
      "metadata": {
        "colab": {
          "base_uri": "https://localhost:8080/"
        },
        "id": "bc3pYV4I6UeZ",
        "outputId": "1d553c7e-0350-45fa-cb00-0a7c72e90031"
      },
      "execution_count": 19,
      "outputs": [
        {
          "output_type": "stream",
          "name": "stdout",
          "text": [
            "M Muaz Shahzad \n",
            "BSE 5B\n",
            "02-131202-081\n"
          ]
        }
      ]
    },
    {
      "cell_type": "code",
      "execution_count": null,
      "metadata": {
        "colab": {
          "base_uri": "https://localhost:8080/",
          "height": 337
        },
        "id": "qYZ_s9fMvbWN",
        "outputId": "475b58bf-1d44-4eae-86f3-edd7742ce479"
      },
      "outputs": [
        {
          "output_type": "execute_result",
          "data": {
            "text/plain": [
              "               business_categories business_city             business_id  \\\n",
              "0  Breakfast & Brunch; Restaurants       Phoenix  9yKzy9PApeiPPOUJEtnvkg   \n",
              "1      Italian; Pizza; Restaurants       Phoenix  ZRJwVLyzEJq1VAihDhYiow   \n",
              "2      Middle Eastern; Restaurants         Tempe  6oRAC4uyJCsJl1X0WZpVSA   \n",
              "3    Active Life; Dog Parks; Parks    Scottsdale  _1QQZuf4zZOyFCvXc0o6Vg   \n",
              "4                Tires; Automotive          Mesa  6ozycU1RpktNG2-1BroVtw   \n",
              "\n",
              "        date  stars                                               text  \\\n",
              "0  26/1/2011      5  My wife took me here on my birthday for breakf...   \n",
              "1  27/7/2011      5  I have no idea why some people give bad review...   \n",
              "2  14/6/2012      4  love the gyro plate. Rice is so good and I als...   \n",
              "3  27/5/2010      5  Rosie, Dakota, and I LOVE Chaparral Dog Park!!...   \n",
              "4   5/1/2012      5  General Manager Scott Petello is a good egg!!!...   \n",
              "\n",
              "   useful                 user_id  \n",
              "0       5  rLtl8ZkDX5vH5nAx9C3q5Q  \n",
              "1       0  0a2KyEL0d3Yb1V6aivbIuQ  \n",
              "2       1  0hT2KtfLiobPvh6cDC8JQg  \n",
              "3       2  uZetl9T0NcROGOyFfughhg  \n",
              "4       0  vYmM4KTsC8ZfQBg-j5MWkw  "
            ],
            "text/html": [
              "\n",
              "  <div id=\"df-e4f5a995-b0dd-4719-895b-563d7498e952\">\n",
              "    <div class=\"colab-df-container\">\n",
              "      <div>\n",
              "<style scoped>\n",
              "    .dataframe tbody tr th:only-of-type {\n",
              "        vertical-align: middle;\n",
              "    }\n",
              "\n",
              "    .dataframe tbody tr th {\n",
              "        vertical-align: top;\n",
              "    }\n",
              "\n",
              "    .dataframe thead th {\n",
              "        text-align: right;\n",
              "    }\n",
              "</style>\n",
              "<table border=\"1\" class=\"dataframe\">\n",
              "  <thead>\n",
              "    <tr style=\"text-align: right;\">\n",
              "      <th></th>\n",
              "      <th>business_categories</th>\n",
              "      <th>business_city</th>\n",
              "      <th>business_id</th>\n",
              "      <th>date</th>\n",
              "      <th>stars</th>\n",
              "      <th>text</th>\n",
              "      <th>useful</th>\n",
              "      <th>user_id</th>\n",
              "    </tr>\n",
              "  </thead>\n",
              "  <tbody>\n",
              "    <tr>\n",
              "      <th>0</th>\n",
              "      <td>Breakfast &amp; Brunch; Restaurants</td>\n",
              "      <td>Phoenix</td>\n",
              "      <td>9yKzy9PApeiPPOUJEtnvkg</td>\n",
              "      <td>26/1/2011</td>\n",
              "      <td>5</td>\n",
              "      <td>My wife took me here on my birthday for breakf...</td>\n",
              "      <td>5</td>\n",
              "      <td>rLtl8ZkDX5vH5nAx9C3q5Q</td>\n",
              "    </tr>\n",
              "    <tr>\n",
              "      <th>1</th>\n",
              "      <td>Italian; Pizza; Restaurants</td>\n",
              "      <td>Phoenix</td>\n",
              "      <td>ZRJwVLyzEJq1VAihDhYiow</td>\n",
              "      <td>27/7/2011</td>\n",
              "      <td>5</td>\n",
              "      <td>I have no idea why some people give bad review...</td>\n",
              "      <td>0</td>\n",
              "      <td>0a2KyEL0d3Yb1V6aivbIuQ</td>\n",
              "    </tr>\n",
              "    <tr>\n",
              "      <th>2</th>\n",
              "      <td>Middle Eastern; Restaurants</td>\n",
              "      <td>Tempe</td>\n",
              "      <td>6oRAC4uyJCsJl1X0WZpVSA</td>\n",
              "      <td>14/6/2012</td>\n",
              "      <td>4</td>\n",
              "      <td>love the gyro plate. Rice is so good and I als...</td>\n",
              "      <td>1</td>\n",
              "      <td>0hT2KtfLiobPvh6cDC8JQg</td>\n",
              "    </tr>\n",
              "    <tr>\n",
              "      <th>3</th>\n",
              "      <td>Active Life; Dog Parks; Parks</td>\n",
              "      <td>Scottsdale</td>\n",
              "      <td>_1QQZuf4zZOyFCvXc0o6Vg</td>\n",
              "      <td>27/5/2010</td>\n",
              "      <td>5</td>\n",
              "      <td>Rosie, Dakota, and I LOVE Chaparral Dog Park!!...</td>\n",
              "      <td>2</td>\n",
              "      <td>uZetl9T0NcROGOyFfughhg</td>\n",
              "    </tr>\n",
              "    <tr>\n",
              "      <th>4</th>\n",
              "      <td>Tires; Automotive</td>\n",
              "      <td>Mesa</td>\n",
              "      <td>6ozycU1RpktNG2-1BroVtw</td>\n",
              "      <td>5/1/2012</td>\n",
              "      <td>5</td>\n",
              "      <td>General Manager Scott Petello is a good egg!!!...</td>\n",
              "      <td>0</td>\n",
              "      <td>vYmM4KTsC8ZfQBg-j5MWkw</td>\n",
              "    </tr>\n",
              "  </tbody>\n",
              "</table>\n",
              "</div>\n",
              "      <button class=\"colab-df-convert\" onclick=\"convertToInteractive('df-e4f5a995-b0dd-4719-895b-563d7498e952')\"\n",
              "              title=\"Convert this dataframe to an interactive table.\"\n",
              "              style=\"display:none;\">\n",
              "        \n",
              "  <svg xmlns=\"http://www.w3.org/2000/svg\" height=\"24px\"viewBox=\"0 0 24 24\"\n",
              "       width=\"24px\">\n",
              "    <path d=\"M0 0h24v24H0V0z\" fill=\"none\"/>\n",
              "    <path d=\"M18.56 5.44l.94 2.06.94-2.06 2.06-.94-2.06-.94-.94-2.06-.94 2.06-2.06.94zm-11 1L8.5 8.5l.94-2.06 2.06-.94-2.06-.94L8.5 2.5l-.94 2.06-2.06.94zm10 10l.94 2.06.94-2.06 2.06-.94-2.06-.94-.94-2.06-.94 2.06-2.06.94z\"/><path d=\"M17.41 7.96l-1.37-1.37c-.4-.4-.92-.59-1.43-.59-.52 0-1.04.2-1.43.59L10.3 9.45l-7.72 7.72c-.78.78-.78 2.05 0 2.83L4 21.41c.39.39.9.59 1.41.59.51 0 1.02-.2 1.41-.59l7.78-7.78 2.81-2.81c.8-.78.8-2.07 0-2.86zM5.41 20L4 18.59l7.72-7.72 1.47 1.35L5.41 20z\"/>\n",
              "  </svg>\n",
              "      </button>\n",
              "      \n",
              "  <style>\n",
              "    .colab-df-container {\n",
              "      display:flex;\n",
              "      flex-wrap:wrap;\n",
              "      gap: 12px;\n",
              "    }\n",
              "\n",
              "    .colab-df-convert {\n",
              "      background-color: #E8F0FE;\n",
              "      border: none;\n",
              "      border-radius: 50%;\n",
              "      cursor: pointer;\n",
              "      display: none;\n",
              "      fill: #1967D2;\n",
              "      height: 32px;\n",
              "      padding: 0 0 0 0;\n",
              "      width: 32px;\n",
              "    }\n",
              "\n",
              "    .colab-df-convert:hover {\n",
              "      background-color: #E2EBFA;\n",
              "      box-shadow: 0px 1px 2px rgba(60, 64, 67, 0.3), 0px 1px 3px 1px rgba(60, 64, 67, 0.15);\n",
              "      fill: #174EA6;\n",
              "    }\n",
              "\n",
              "    [theme=dark] .colab-df-convert {\n",
              "      background-color: #3B4455;\n",
              "      fill: #D2E3FC;\n",
              "    }\n",
              "\n",
              "    [theme=dark] .colab-df-convert:hover {\n",
              "      background-color: #434B5C;\n",
              "      box-shadow: 0px 1px 3px 1px rgba(0, 0, 0, 0.15);\n",
              "      filter: drop-shadow(0px 1px 2px rgba(0, 0, 0, 0.3));\n",
              "      fill: #FFFFFF;\n",
              "    }\n",
              "  </style>\n",
              "\n",
              "      <script>\n",
              "        const buttonEl =\n",
              "          document.querySelector('#df-e4f5a995-b0dd-4719-895b-563d7498e952 button.colab-df-convert');\n",
              "        buttonEl.style.display =\n",
              "          google.colab.kernel.accessAllowed ? 'block' : 'none';\n",
              "\n",
              "        async function convertToInteractive(key) {\n",
              "          const element = document.querySelector('#df-e4f5a995-b0dd-4719-895b-563d7498e952');\n",
              "          const dataTable =\n",
              "            await google.colab.kernel.invokeFunction('convertToInteractive',\n",
              "                                                     [key], {});\n",
              "          if (!dataTable) return;\n",
              "\n",
              "          const docLinkHtml = 'Like what you see? Visit the ' +\n",
              "            '<a target=\"_blank\" href=https://colab.research.google.com/notebooks/data_table.ipynb>data table notebook</a>'\n",
              "            + ' to learn more about interactive tables.';\n",
              "          element.innerHTML = '';\n",
              "          dataTable['output_type'] = 'display_data';\n",
              "          await google.colab.output.renderOutput(dataTable, element);\n",
              "          const docLink = document.createElement('div');\n",
              "          docLink.innerHTML = docLinkHtml;\n",
              "          element.appendChild(docLink);\n",
              "        }\n",
              "      </script>\n",
              "    </div>\n",
              "  </div>\n",
              "  "
            ]
          },
          "metadata": {},
          "execution_count": 2
        }
      ],
      "source": [
        "import pandas as pd\n",
        "data = pd.read_csv('/content/drive/MyDrive/DM-A2/DM_Assignment_02_Dataset.csv')\n",
        "data.head(5)\n"
      ]
    },
    {
      "cell_type": "code",
      "source": [
        "missing_values = data.isnull().sum()\n",
        "print(\"Column Names      Missing Values\")\n",
        "print(\"\")\n",
        "missing_values"
      ],
      "metadata": {
        "colab": {
          "base_uri": "https://localhost:8080/"
        },
        "id": "1TbV2OsR2UnF",
        "outputId": "0b135747-3727-4fff-d3de-ada58e02afdb"
      },
      "execution_count": null,
      "outputs": [
        {
          "output_type": "stream",
          "name": "stdout",
          "text": [
            "Column Names      Missing Values\n",
            "\n"
          ]
        },
        {
          "output_type": "execute_result",
          "data": {
            "text/plain": [
              "business_categories    777\n",
              "business_city            0\n",
              "business_id              0\n",
              "date                     0\n",
              "stars                    0\n",
              "text                     6\n",
              "useful                   0\n",
              "user_id                  0\n",
              "dtype: int64"
            ]
          },
          "metadata": {},
          "execution_count": 3
        }
      ]
    },
    {
      "cell_type": "code",
      "source": [
        "missing_column = missing_values[missing_values > 0]\n",
        "if not missing_column.empty:\n",
        "    print(\"Cols With Missing Values:\")\n",
        "    for column_name, num_missing in missing_column.iteritems():\n",
        "        print(f\"{column_name}: {num_missing} Missing Values\")\n",
        "else:\n",
        "    print(\"No Missing Values Found In Any Col\")"
      ],
      "metadata": {
        "colab": {
          "base_uri": "https://localhost:8080/"
        },
        "id": "NCbO7bSc2fV5",
        "outputId": "6a9ab3ac-3a8a-4547-f9c2-595b3cf47ff9"
      },
      "execution_count": null,
      "outputs": [
        {
          "output_type": "stream",
          "name": "stdout",
          "text": [
            "Cols With Missing Values:\n",
            "business_categories: 777 Missing Values\n",
            "text: 6 Missing Values\n"
          ]
        },
        {
          "output_type": "stream",
          "name": "stderr",
          "text": [
            "<ipython-input-4-297eb6e799f2>:4: FutureWarning: iteritems is deprecated and will be removed in a future version. Use .items instead.\n",
            "  for column_name, num_missing in missing_column.iteritems():\n"
          ]
        }
      ]
    },
    {
      "cell_type": "code",
      "source": [
        "print(\"Data Length Including Missing Values: \", len(data))\n",
        "data_new = data.dropna()\n",
        "print(\"Data Length Without Missing Values: \", len(data_new))"
      ],
      "metadata": {
        "colab": {
          "base_uri": "https://localhost:8080/"
        },
        "id": "72UHL-FW218r",
        "outputId": "591380f9-724d-4f1c-de32-ed382f1e5dc3"
      },
      "execution_count": null,
      "outputs": [
        {
          "output_type": "stream",
          "name": "stdout",
          "text": [
            "Data Length Including Missing Values:  229907\n",
            "Data Length Without Missing Values:  229124\n"
          ]
        }
      ]
    },
    {
      "cell_type": "code",
      "source": [
        "data_cleaned = data.dropna()\n",
        "print(\"Cleaned Dataset length Without Missing Values \", len(data_cleaned))\n",
        "invalid_values = ['#NAME?', '#VALUE!']\n",
        "data_cleaned = data_cleaned[~data_cleaned['business_id'].isin(invalid_values)]\n",
        "data_cleaned = data_cleaned[~data_cleaned['user_id'].isin(invalid_values)]\n",
        "print(\"Cleaned Dataset length Without Invalid Values:\", len(data_cleaned))\n"
      ],
      "metadata": {
        "colab": {
          "base_uri": "https://localhost:8080/"
        },
        "id": "e2jGuLrc3W-E",
        "outputId": "1e823290-c4fc-4aaf-f419-601619b25606"
      },
      "execution_count": null,
      "outputs": [
        {
          "output_type": "stream",
          "name": "stdout",
          "text": [
            "Cleaned Dataset length Without Missing Values  229124\n",
            "Cleaned Dataset length Without Invalid Values: 222759\n"
          ]
        }
      ]
    },
    {
      "cell_type": "code",
      "source": [
        "import random\n",
        "num_cities = 10\n",
        "unique_cities = data['business_city'].unique().tolist()\n",
        "selected_cities = random.sample(unique_cities, num_cities)\n",
        "subset_data = data[data['business_city'].isin(selected_cities)]\n",
        "subset_data"
      ],
      "metadata": {
        "colab": {
          "base_uri": "https://localhost:8080/",
          "height": 641
        },
        "id": "U2XpVcnS4M7T",
        "outputId": "cafad62f-2439-4b2f-cc70-dcf48b7990d4"
      },
      "execution_count": null,
      "outputs": [
        {
          "output_type": "execute_result",
          "data": {
            "text/plain": [
              "                                      business_categories business_city  \\\n",
              "3                           Active Life; Dog Parks; Parks    Scottsdale   \n",
              "17             Food; Specialty Food; Beer, Wine & Spirits    Scottsdale   \n",
              "18      Nightlife; Breakfast & Brunch; Mexican; Bars; ...    Scottsdale   \n",
              "21                                        Bars; Nightlife    Scottsdale   \n",
              "24      Bars; American (Traditional); Nightlife; Loung...    Scottsdale   \n",
              "...                                                   ...           ...   \n",
              "229887  Vegetarian; American (New); Mediterranean; Res...    Scottsdale   \n",
              "229891                        Restaurants; Pizza; Italian    Scottsdale   \n",
              "229896  Soul Food; Breakfast & Brunch; Southern; Resta...    Scottsdale   \n",
              "229898                        American (New); Restaurants    Scottsdale   \n",
              "229903  Hotels & Travel; Event Planning & Services; Ho...        Peoria   \n",
              "\n",
              "                   business_id        date  stars  \\\n",
              "3       _1QQZuf4zZOyFCvXc0o6Vg   27/5/2010      5   \n",
              "17      O510Re68mOy9dU490JTKCg    3/5/2010      5   \n",
              "18      b5cEoKR8iQliq-yT2_O0LQ    6/3/2009      3   \n",
              "21      tdcjXyFLMKAsvRhURNOkCg   28/6/2011      5   \n",
              "24      JhupPnWfNlMJivnWB5druA   22/5/2011      5   \n",
              "...                        ...         ...    ...   \n",
              "229887  Ez2MFsVT5lJZ05yvK_0AXQ   23/6/2010      5   \n",
              "229891  fPExBO1aXA5c4uwlHFyx2Q    6/4/2012      5   \n",
              "229896  uEJQSIjWui-TDWXaGlcqyQ  25/11/2011      2   \n",
              "229898  FV0BkoGOd3Yu_eJnXY15ZA    2/6/2010      2   \n",
              "229903  l5oUrgQ190l8CcN8uzd_pA   23/1/2011      1   \n",
              "\n",
              "                                                     text  useful  \\\n",
              "3       Rosie, Dakota, and I LOVE Chaparral Dog Park!!...       2   \n",
              "17      okay this is the best place EVER! i grew up sh...       0   \n",
              "18      I met a friend for lunch yesterday. \\n\\nLoved ...       6   \n",
              "21      This place shouldn't even be reviewed - becaus...       1   \n",
              "24      I love this place! I have been coming here for...       1   \n",
              "...                                                   ...     ...   \n",
              "229887  Although this joint is by far one of the best ...       3   \n",
              "229891  First time tonight,  went on reccommendation o...       1   \n",
              "229896  Pros:\\n-Great tasting kool-aid, but then again...       1   \n",
              "229898  I have been wanting to try Cowboy Ciao for a w...       0   \n",
              "229903  My husband I stayed here for two nights.  Of c...       2   \n",
              "\n",
              "                       user_id  \n",
              "3       uZetl9T0NcROGOyFfughhg  \n",
              "17      u1KWcbPMvXFEEYkZZ0Yktg  \n",
              "18      UsULgP4bKA8RMzs8dQzcsA  \n",
              "21      YN3ZLOdg8kpnfbVcIhuEZA  \n",
              "24      13xj6FSvYO0rZVRv5XZp4w  \n",
              "...                        ...  \n",
              "229887  SC_bFYaDgDub7tDjKCvV_g  \n",
              "229891  zgOeUiJnNMLOocpYN4m2VQ  \n",
              "229896  oJTwHtNlipl1iqaFV7HHZA  \n",
              "229898  tTO6rv0Z9aNNYmmZU_BR4g  \n",
              "229903  dDNfSFT0VApxPmURclX6_g  \n",
              "\n",
              "[55256 rows x 8 columns]"
            ],
            "text/html": [
              "\n",
              "  <div id=\"df-924eeaea-6290-4065-941b-a6a98ac21a13\">\n",
              "    <div class=\"colab-df-container\">\n",
              "      <div>\n",
              "<style scoped>\n",
              "    .dataframe tbody tr th:only-of-type {\n",
              "        vertical-align: middle;\n",
              "    }\n",
              "\n",
              "    .dataframe tbody tr th {\n",
              "        vertical-align: top;\n",
              "    }\n",
              "\n",
              "    .dataframe thead th {\n",
              "        text-align: right;\n",
              "    }\n",
              "</style>\n",
              "<table border=\"1\" class=\"dataframe\">\n",
              "  <thead>\n",
              "    <tr style=\"text-align: right;\">\n",
              "      <th></th>\n",
              "      <th>business_categories</th>\n",
              "      <th>business_city</th>\n",
              "      <th>business_id</th>\n",
              "      <th>date</th>\n",
              "      <th>stars</th>\n",
              "      <th>text</th>\n",
              "      <th>useful</th>\n",
              "      <th>user_id</th>\n",
              "    </tr>\n",
              "  </thead>\n",
              "  <tbody>\n",
              "    <tr>\n",
              "      <th>3</th>\n",
              "      <td>Active Life; Dog Parks; Parks</td>\n",
              "      <td>Scottsdale</td>\n",
              "      <td>_1QQZuf4zZOyFCvXc0o6Vg</td>\n",
              "      <td>27/5/2010</td>\n",
              "      <td>5</td>\n",
              "      <td>Rosie, Dakota, and I LOVE Chaparral Dog Park!!...</td>\n",
              "      <td>2</td>\n",
              "      <td>uZetl9T0NcROGOyFfughhg</td>\n",
              "    </tr>\n",
              "    <tr>\n",
              "      <th>17</th>\n",
              "      <td>Food; Specialty Food; Beer, Wine &amp; Spirits</td>\n",
              "      <td>Scottsdale</td>\n",
              "      <td>O510Re68mOy9dU490JTKCg</td>\n",
              "      <td>3/5/2010</td>\n",
              "      <td>5</td>\n",
              "      <td>okay this is the best place EVER! i grew up sh...</td>\n",
              "      <td>0</td>\n",
              "      <td>u1KWcbPMvXFEEYkZZ0Yktg</td>\n",
              "    </tr>\n",
              "    <tr>\n",
              "      <th>18</th>\n",
              "      <td>Nightlife; Breakfast &amp; Brunch; Mexican; Bars; ...</td>\n",
              "      <td>Scottsdale</td>\n",
              "      <td>b5cEoKR8iQliq-yT2_O0LQ</td>\n",
              "      <td>6/3/2009</td>\n",
              "      <td>3</td>\n",
              "      <td>I met a friend for lunch yesterday. \\n\\nLoved ...</td>\n",
              "      <td>6</td>\n",
              "      <td>UsULgP4bKA8RMzs8dQzcsA</td>\n",
              "    </tr>\n",
              "    <tr>\n",
              "      <th>21</th>\n",
              "      <td>Bars; Nightlife</td>\n",
              "      <td>Scottsdale</td>\n",
              "      <td>tdcjXyFLMKAsvRhURNOkCg</td>\n",
              "      <td>28/6/2011</td>\n",
              "      <td>5</td>\n",
              "      <td>This place shouldn't even be reviewed - becaus...</td>\n",
              "      <td>1</td>\n",
              "      <td>YN3ZLOdg8kpnfbVcIhuEZA</td>\n",
              "    </tr>\n",
              "    <tr>\n",
              "      <th>24</th>\n",
              "      <td>Bars; American (Traditional); Nightlife; Loung...</td>\n",
              "      <td>Scottsdale</td>\n",
              "      <td>JhupPnWfNlMJivnWB5druA</td>\n",
              "      <td>22/5/2011</td>\n",
              "      <td>5</td>\n",
              "      <td>I love this place! I have been coming here for...</td>\n",
              "      <td>1</td>\n",
              "      <td>13xj6FSvYO0rZVRv5XZp4w</td>\n",
              "    </tr>\n",
              "    <tr>\n",
              "      <th>...</th>\n",
              "      <td>...</td>\n",
              "      <td>...</td>\n",
              "      <td>...</td>\n",
              "      <td>...</td>\n",
              "      <td>...</td>\n",
              "      <td>...</td>\n",
              "      <td>...</td>\n",
              "      <td>...</td>\n",
              "    </tr>\n",
              "    <tr>\n",
              "      <th>229887</th>\n",
              "      <td>Vegetarian; American (New); Mediterranean; Res...</td>\n",
              "      <td>Scottsdale</td>\n",
              "      <td>Ez2MFsVT5lJZ05yvK_0AXQ</td>\n",
              "      <td>23/6/2010</td>\n",
              "      <td>5</td>\n",
              "      <td>Although this joint is by far one of the best ...</td>\n",
              "      <td>3</td>\n",
              "      <td>SC_bFYaDgDub7tDjKCvV_g</td>\n",
              "    </tr>\n",
              "    <tr>\n",
              "      <th>229891</th>\n",
              "      <td>Restaurants; Pizza; Italian</td>\n",
              "      <td>Scottsdale</td>\n",
              "      <td>fPExBO1aXA5c4uwlHFyx2Q</td>\n",
              "      <td>6/4/2012</td>\n",
              "      <td>5</td>\n",
              "      <td>First time tonight,  went on reccommendation o...</td>\n",
              "      <td>1</td>\n",
              "      <td>zgOeUiJnNMLOocpYN4m2VQ</td>\n",
              "    </tr>\n",
              "    <tr>\n",
              "      <th>229896</th>\n",
              "      <td>Soul Food; Breakfast &amp; Brunch; Southern; Resta...</td>\n",
              "      <td>Scottsdale</td>\n",
              "      <td>uEJQSIjWui-TDWXaGlcqyQ</td>\n",
              "      <td>25/11/2011</td>\n",
              "      <td>2</td>\n",
              "      <td>Pros:\\n-Great tasting kool-aid, but then again...</td>\n",
              "      <td>1</td>\n",
              "      <td>oJTwHtNlipl1iqaFV7HHZA</td>\n",
              "    </tr>\n",
              "    <tr>\n",
              "      <th>229898</th>\n",
              "      <td>American (New); Restaurants</td>\n",
              "      <td>Scottsdale</td>\n",
              "      <td>FV0BkoGOd3Yu_eJnXY15ZA</td>\n",
              "      <td>2/6/2010</td>\n",
              "      <td>2</td>\n",
              "      <td>I have been wanting to try Cowboy Ciao for a w...</td>\n",
              "      <td>0</td>\n",
              "      <td>tTO6rv0Z9aNNYmmZU_BR4g</td>\n",
              "    </tr>\n",
              "    <tr>\n",
              "      <th>229903</th>\n",
              "      <td>Hotels &amp; Travel; Event Planning &amp; Services; Ho...</td>\n",
              "      <td>Peoria</td>\n",
              "      <td>l5oUrgQ190l8CcN8uzd_pA</td>\n",
              "      <td>23/1/2011</td>\n",
              "      <td>1</td>\n",
              "      <td>My husband I stayed here for two nights.  Of c...</td>\n",
              "      <td>2</td>\n",
              "      <td>dDNfSFT0VApxPmURclX6_g</td>\n",
              "    </tr>\n",
              "  </tbody>\n",
              "</table>\n",
              "<p>55256 rows × 8 columns</p>\n",
              "</div>\n",
              "      <button class=\"colab-df-convert\" onclick=\"convertToInteractive('df-924eeaea-6290-4065-941b-a6a98ac21a13')\"\n",
              "              title=\"Convert this dataframe to an interactive table.\"\n",
              "              style=\"display:none;\">\n",
              "        \n",
              "  <svg xmlns=\"http://www.w3.org/2000/svg\" height=\"24px\"viewBox=\"0 0 24 24\"\n",
              "       width=\"24px\">\n",
              "    <path d=\"M0 0h24v24H0V0z\" fill=\"none\"/>\n",
              "    <path d=\"M18.56 5.44l.94 2.06.94-2.06 2.06-.94-2.06-.94-.94-2.06-.94 2.06-2.06.94zm-11 1L8.5 8.5l.94-2.06 2.06-.94-2.06-.94L8.5 2.5l-.94 2.06-2.06.94zm10 10l.94 2.06.94-2.06 2.06-.94-2.06-.94-.94-2.06-.94 2.06-2.06.94z\"/><path d=\"M17.41 7.96l-1.37-1.37c-.4-.4-.92-.59-1.43-.59-.52 0-1.04.2-1.43.59L10.3 9.45l-7.72 7.72c-.78.78-.78 2.05 0 2.83L4 21.41c.39.39.9.59 1.41.59.51 0 1.02-.2 1.41-.59l7.78-7.78 2.81-2.81c.8-.78.8-2.07 0-2.86zM5.41 20L4 18.59l7.72-7.72 1.47 1.35L5.41 20z\"/>\n",
              "  </svg>\n",
              "      </button>\n",
              "      \n",
              "  <style>\n",
              "    .colab-df-container {\n",
              "      display:flex;\n",
              "      flex-wrap:wrap;\n",
              "      gap: 12px;\n",
              "    }\n",
              "\n",
              "    .colab-df-convert {\n",
              "      background-color: #E8F0FE;\n",
              "      border: none;\n",
              "      border-radius: 50%;\n",
              "      cursor: pointer;\n",
              "      display: none;\n",
              "      fill: #1967D2;\n",
              "      height: 32px;\n",
              "      padding: 0 0 0 0;\n",
              "      width: 32px;\n",
              "    }\n",
              "\n",
              "    .colab-df-convert:hover {\n",
              "      background-color: #E2EBFA;\n",
              "      box-shadow: 0px 1px 2px rgba(60, 64, 67, 0.3), 0px 1px 3px 1px rgba(60, 64, 67, 0.15);\n",
              "      fill: #174EA6;\n",
              "    }\n",
              "\n",
              "    [theme=dark] .colab-df-convert {\n",
              "      background-color: #3B4455;\n",
              "      fill: #D2E3FC;\n",
              "    }\n",
              "\n",
              "    [theme=dark] .colab-df-convert:hover {\n",
              "      background-color: #434B5C;\n",
              "      box-shadow: 0px 1px 3px 1px rgba(0, 0, 0, 0.15);\n",
              "      filter: drop-shadow(0px 1px 2px rgba(0, 0, 0, 0.3));\n",
              "      fill: #FFFFFF;\n",
              "    }\n",
              "  </style>\n",
              "\n",
              "      <script>\n",
              "        const buttonEl =\n",
              "          document.querySelector('#df-924eeaea-6290-4065-941b-a6a98ac21a13 button.colab-df-convert');\n",
              "        buttonEl.style.display =\n",
              "          google.colab.kernel.accessAllowed ? 'block' : 'none';\n",
              "\n",
              "        async function convertToInteractive(key) {\n",
              "          const element = document.querySelector('#df-924eeaea-6290-4065-941b-a6a98ac21a13');\n",
              "          const dataTable =\n",
              "            await google.colab.kernel.invokeFunction('convertToInteractive',\n",
              "                                                     [key], {});\n",
              "          if (!dataTable) return;\n",
              "\n",
              "          const docLinkHtml = 'Like what you see? Visit the ' +\n",
              "            '<a target=\"_blank\" href=https://colab.research.google.com/notebooks/data_table.ipynb>data table notebook</a>'\n",
              "            + ' to learn more about interactive tables.';\n",
              "          element.innerHTML = '';\n",
              "          dataTable['output_type'] = 'display_data';\n",
              "          await google.colab.output.renderOutput(dataTable, element);\n",
              "          const docLink = document.createElement('div');\n",
              "          docLink.innerHTML = docLinkHtml;\n",
              "          element.appendChild(docLink);\n",
              "        }\n",
              "      </script>\n",
              "    </div>\n",
              "  </div>\n",
              "  "
            ]
          },
          "metadata": {},
          "execution_count": 10
        }
      ]
    },
    {
      "cell_type": "code",
      "source": [
        "# Assuming your sample data is stored in a DataFrame called 'data'\n",
        "summary_stats = data['stars'].describe()\n",
        "# Display the summary statistics\n",
        "print(summary_stats)"
      ],
      "metadata": {
        "colab": {
          "base_uri": "https://localhost:8080/"
        },
        "id": "7AcuiqTO4RU_",
        "outputId": "2e3cf5ab-491a-4c3d-b897-f39bc9457e87"
      },
      "execution_count": null,
      "outputs": [
        {
          "output_type": "stream",
          "name": "stdout",
          "text": [
            "count    229907.000000\n",
            "mean          3.766723\n",
            "std           1.217010\n",
            "min           1.000000\n",
            "25%           3.000000\n",
            "50%           4.000000\n",
            "75%           5.000000\n",
            "max           5.000000\n",
            "Name: stars, dtype: float64\n"
          ]
        }
      ]
    },
    {
      "cell_type": "code",
      "source": [
        "unique_business_count = data.groupby('business_city')['business_id'].nunique().reset_index()\n",
        "unique_business_count.columns = ['business_city', 'count']\n",
        "# Display the resulting dataframe\n",
        "print(unique_business_count)"
      ],
      "metadata": {
        "colab": {
          "base_uri": "https://localhost:8080/"
        },
        "id": "RAcjHudq4q9o",
        "outputId": "69d0ecce-69cd-4f10-9b4b-b6b6d3f2b430"
      },
      "execution_count": null,
      "outputs": [
        {
          "output_type": "stream",
          "name": "stdout",
          "text": [
            "      business_city  count\n",
            "0         Ahwatukee      4\n",
            "1            Anthem     34\n",
            "2   Apache Junction     46\n",
            "3          Avondale    129\n",
            "4           Buckeye     31\n",
            "..              ...    ...\n",
            "56          Waddell      1\n",
            "57       Wickenburg     28\n",
            "58         Wittmann      2\n",
            "59        Youngtown      7\n",
            "60             Yuma      1\n",
            "\n",
            "[61 rows x 2 columns]\n"
          ]
        }
      ]
    },
    {
      "cell_type": "code",
      "source": [
        "count_summary_stats = unique_business_count['count'].describe()\n",
        "print(count_summary_stats)\n",
        "unique_user_count = data.groupby(['business_categories', 'business_id'])['user_id'].nunique().reset_index()\n",
        "unique_user_count.columns = ['business_categories', 'business_id', 'count']\n",
        "print(unique_user_count)\n"
      ],
      "metadata": {
        "colab": {
          "base_uri": "https://localhost:8080/"
        },
        "id": "LZSyAW014wJR",
        "outputId": "e5f43ed4-99e0-4b9c-96c2-9d71cc7f2f0d"
      },
      "execution_count": null,
      "outputs": [
        {
          "output_type": "stream",
          "name": "stdout",
          "text": [
            "count      61.000000\n",
            "mean      186.786885\n",
            "std       607.491485\n",
            "min         1.000000\n",
            "25%         2.000000\n",
            "50%         8.000000\n",
            "75%        47.000000\n",
            "max      4091.000000\n",
            "Name: count, dtype: float64\n",
            "                                     business_categories  \\\n",
            "0      Accessories; Fashion; Shopping; Cosmetics & Be...   \n",
            "1                     Accountants; Professional Services   \n",
            "2                     Accountants; Professional Services   \n",
            "3                     Accountants; Professional Services   \n",
            "4                     Accountants; Professional Services   \n",
            "...                                                  ...   \n",
            "11311  Women's Clothing; Used, Vintage & Consignment;...   \n",
            "11312  Women's Clothing; Used, Vintage & Consignment;...   \n",
            "11313  Women's Clothing; Used, Vintage & Consignment;...   \n",
            "11314  Yoga; Beauty & Spas; Food; Juice Bars & Smooth...   \n",
            "11315  Yoga; Gyms; Weight Loss Centers; Health & Medi...   \n",
            "\n",
            "                  business_id  count  \n",
            "0      F-HBLqU3Kvs89lkQ5CjLBQ      4  \n",
            "1      2k1I66IxKL9vJnRQhXWkDQ      4  \n",
            "2      8EzwrhAxbeVbxuM24HElXA      5  \n",
            "3      T7acIuznS5juLqB-iUQFlg      3  \n",
            "4      aqYoDGcUljXeWSbL2heT0A      3  \n",
            "...                       ...    ...  \n",
            "11311  V3iZYqcJOoV2wMljgwK2Ig      7  \n",
            "11312  3HciJAVduCRoPDdzgh7cAA     70  \n",
            "11313  JmEp4DxBEIrFD-rgbL8bvQ     49  \n",
            "11314  tbANFIP17slL1xPIUsl1MA     30  \n",
            "11315  i9-qblQnpMmvE2G8wxJbaQ      3  \n",
            "\n",
            "[11316 rows x 3 columns]\n"
          ]
        }
      ]
    },
    {
      "cell_type": "code",
      "source": [
        "count_summary_stats = unique_user_count['count'].describe()\n",
        "print(count_summary_stats)"
      ],
      "metadata": {
        "colab": {
          "base_uri": "https://localhost:8080/"
        },
        "id": "qkywoJWj437o",
        "outputId": "7698450b-c73a-49b9-d641-d85ebbf80dc1"
      },
      "execution_count": null,
      "outputs": [
        {
          "output_type": "stream",
          "name": "stdout",
          "text": [
            "count    11316.000000\n",
            "mean        20.168257\n",
            "std         43.084559\n",
            "min          2.000000\n",
            "25%          4.000000\n",
            "50%          6.000000\n",
            "75%         17.000000\n",
            "max        833.000000\n",
            "Name: count, dtype: float64\n"
          ]
        }
      ]
    },
    {
      "cell_type": "code",
      "source": [
        "import matplotlib.pyplot as plt\n",
        "import seaborn as sns\n",
        "plt.figure(figsize=(10, 6))\n",
        "sns.histplot(data_cleaned['stars'], bins=10, kde=True)\n",
        "plt.xlabel('Stars')\n",
        "plt.ylabel('Count')\n",
        "plt.title('Distribution of Stars')\n",
        "plt.show()"
      ],
      "metadata": {
        "colab": {
          "base_uri": "https://localhost:8080/",
          "height": 564
        },
        "id": "9OoUnNlv479j",
        "outputId": "a93e3b80-0c2e-4e8f-94fc-82ec3e3858be"
      },
      "execution_count": null,
      "outputs": [
        {
          "output_type": "display_data",
          "data": {
            "text/plain": [
              "<Figure size 1000x600 with 1 Axes>"
            ],
            "image/png": "[encoded data removed]"
          },
          "metadata": {}
        }
      ]
    },
    {
      "cell_type": "code",
      "source": [
        "# Correlation heatmap\n",
        "corr = data_cleaned[['business_city', 'useful', 'business_categories', 'stars']].corr()\n",
        "plt.figure(figsize=(10, 8))\n",
        "sns.heatmap(corr, annot=True, cmap='coolwarm')\n",
        "plt.title('Correlation Heatmap')\n",
        "plt.show()"
      ],
      "metadata": {
        "colab": {
          "base_uri": "https://localhost:8080/",
          "height": 754
        },
        "id": "9gnbxKZ_4_tu",
        "outputId": "603e5722-75b3-465a-811b-6a49d30fc9c5"
      },
      "execution_count": null,
      "outputs": [
        {
          "output_type": "stream",
          "name": "stderr",
          "text": [
            "<ipython-input-17-8c8cc61191f6>:2: FutureWarning: The default value of numeric_only in DataFrame.corr is deprecated. In a future version, it will default to False. Select only valid columns or specify the value of numeric_only to silence this warning.\n",
            "  corr = data_cleaned[['business_city', 'useful', 'business_categories', 'stars']].corr()\n"
          ]
        },
        {
          "output_type": "display_data",
          "data": {
            "text/plain": [
              "<Figure size 1000x800 with 2 Axes>"
            ],
            "image/png": "[encoded data removed]"
          },
          "metadata": {}
        }
      ]
    },
    {
      "cell_type": "code",
      "source": [
        "summary_stats = data_cleaned.describe(include='all')\n",
        "print(summary_stats)"
      ],
      "metadata": {
        "id": "6f2DnqTY5Gbz",
        "outputId": "543df039-e780-4450-c5b8-79983cfdfd84",
        "colab": {
          "base_uri": "https://localhost:8080/"
        }
      },
      "execution_count": null,
      "outputs": [
        {
          "output_type": "stream",
          "name": "stdout",
          "text": [
            "         business_categories business_city             business_id      date  \\\n",
            "count                 222759        222759                  222759    222759   \n",
            "unique                  2038            61                   11200      2504   \n",
            "top     Mexican; Restaurants       Phoenix  hW0Ne_HTHEAgGF1rAdmR-g  3/1/2013   \n",
            "freq                   14282         93121                     832       359   \n",
            "mean                     NaN           NaN                     NaN       NaN   \n",
            "std                      NaN           NaN                     NaN       NaN   \n",
            "min                      NaN           NaN                     NaN       NaN   \n",
            "25%                      NaN           NaN                     NaN       NaN   \n",
            "50%                      NaN           NaN                     NaN       NaN   \n",
            "75%                      NaN           NaN                     NaN       NaN   \n",
            "max                      NaN           NaN                     NaN       NaN   \n",
            "\n",
            "                stars    text         useful                 user_id  \n",
            "count   222759.000000  222759  222759.000000                  222759  \n",
            "unique            NaN  222521            NaN                   44952  \n",
            "top               NaN  closed            NaN  fczQCSmaWF78toLEmb0Zsw  \n",
            "freq              NaN      13            NaN                     581  \n",
            "mean         3.768000     NaN       1.388819                     NaN  \n",
            "std          1.215701     NaN       2.231301                     NaN  \n",
            "min          1.000000     NaN       0.000000                     NaN  \n",
            "25%          3.000000     NaN       0.000000                     NaN  \n",
            "50%          4.000000     NaN       1.000000                     NaN  \n",
            "75%          5.000000     NaN       2.000000                     NaN  \n",
            "max          5.000000     NaN     120.000000                     NaN  \n"
          ]
        }
      ]
    },
    {
      "cell_type": "code",
      "source": [],
      "metadata": {
        "id": "V5JOafCL5JPA"
      },
      "execution_count": null,
      "outputs": []
    }
  ]
}